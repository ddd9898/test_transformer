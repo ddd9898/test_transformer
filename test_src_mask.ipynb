{
 "cells": [
  {
   "cell_type": "code",
   "execution_count": 1,
   "metadata": {},
   "outputs": [],
   "source": [
    "import torch\n",
    "import torch.nn as nn\n",
    "import numpy as np\n",
    "import random"
   ]
  },
  {
   "cell_type": "code",
   "execution_count": 2,
   "metadata": {},
   "outputs": [],
   "source": [
    "#Train setting\n",
    "BATCH_SIZE = 8 #2560\n",
    "LR = 0.0001 # 0.0001\n",
    "NUM_EPOCHS = 1000 #500\n",
    "MAX_LEN = 3\n",
    "DIM_EMBEDDING = 128\n",
    "MASK_IDX = 1 #0:5\n",
    "OUTPUT_IDX = 2"
   ]
  },
  {
   "cell_type": "code",
   "execution_count": 3,
   "metadata": {},
   "outputs": [],
   "source": [
    "\n",
    "class autoencoder(nn.Module):\n",
    "    def __init__(self,\n",
    "                dropout=0.2,\n",
    "                num_heads=8,\n",
    "                vocab_size = MAX_LEN,\n",
    "                d_embedding=32,\n",
    "                num_encoder_layers=1,\n",
    "                output_idx = 2\n",
    "                ):\n",
    "        super(autoencoder, self).__init__()\n",
    "        \n",
    "        self.output_idx = output_idx\n",
    "        \n",
    "        self.embeddingLayer_encoder = nn.Embedding(vocab_size, d_embedding)\n",
    "        self.positionalEncodings_encoder = nn.Parameter(torch.rand(MAX_LEN, d_embedding), requires_grad=True)\n",
    "\n",
    "\n",
    "        ##Encoder \n",
    "        encoder_layers = nn.TransformerEncoderLayer(d_model=d_embedding, nhead=num_heads,dim_feedforward=1024,dropout=dropout)\n",
    "        encoder_norm = nn.LayerNorm(d_embedding)\n",
    "        self.transformer_encoder = nn.TransformerEncoder(encoder_layers,num_encoder_layers,encoder_norm)\n",
    "        \n",
    "        ##output\n",
    "        self.fc_out = nn.Linear(d_embedding, MAX_LEN)\n",
    "\n",
    "    def forward(self,src,src_mask):\n",
    "        \n",
    "        src = self.embeddingLayer_encoder(src)\n",
    "        src = src + self.positionalEncodings_encoder[:src.shape[1],:]\n",
    "\n",
    "        #Encoder\n",
    "        src = src.permute(1,0,2) #seq * batch * feature\n",
    "        output = self.transformer_encoder(src=src,mask=src_mask)\n",
    "        output = output.permute(1,0,2) #batch * seq * feature\n",
    "        \n",
    "        output = self.fc_out(output)\n",
    "        \n",
    "        ##Attention\n",
    "        attn_output_weights = self.transformer_encoder.layers[0].self_attn(src, src, src,attn_mask=src_mask)[1]\n",
    "        # attn_output_weights = torch.sum(attn_output_weights,dim=1)\n",
    "\n",
    "         \n",
    "        return output[:,self.output_idx,:],attn_output_weights[:,self.output_idx,:]\n",
    "\n",
    "##创建模型，只输出transformer_encoder某个位置的输出结果和注意力权重\n",
    "device = \"cpu\"\n",
    "model = autoencoder(num_encoder_layers = 1,d_embedding=DIM_EMBEDDING,output_idx=OUTPUT_IDX).to(device)\n"
   ]
  },
  {
   "cell_type": "code",
   "execution_count": 4,
   "metadata": {},
   "outputs": [],
   "source": [
    "\n",
    "def get_batch_data(batch_size = 0):\n",
    "    '''\n",
    "    Batch * len\n",
    "    '''\n",
    "    x = list()\n",
    "    y = list()\n",
    "    tokenizer = {\n",
    "                'A':0,\n",
    "                'B':1,\n",
    "                'C':2}\n",
    "    label_embedding = {'A':[1,0,0],\n",
    "                      'B': [0,1,0],\n",
    "                      'C': [0,0,1]}\n",
    "    for n in range(batch_size):\n",
    "        sample = list()\n",
    "        label = list()\n",
    "        for m in range(MAX_LEN):\n",
    "            char = random.choice(['A','B','C']) \n",
    "            sample.append(tokenizer[char])\n",
    "            label.append(label_embedding[char])\n",
    "        x.append(sample)\n",
    "        y.append(label)\n",
    "        \n",
    "    x = torch.tensor(x).type(torch.int64)\n",
    "    y = torch.tensor(y).type(torch.float32)\n",
    "    return x,y\n"
   ]
  },
  {
   "cell_type": "code",
   "execution_count": 5,
   "metadata": {},
   "outputs": [
    {
     "name": "stdout",
     "output_type": "stream",
     "text": [
      "tensor([[0., -inf, 0.],\n",
      "        [0., -inf, 0.],\n",
      "        [0., -inf, 0.]])\n"
     ]
    }
   ],
   "source": [
    "##创建src_mask，遮挡输入序列中第MASK_IDX个位置的信息\n",
    "src_mask =  torch.zeros(MAX_LEN,MAX_LEN)\n",
    "src_mask[:,MASK_IDX] = 1\n",
    "src_mask = src_mask.masked_fill(src_mask == 1, float('-inf'))\n",
    "print(src_mask)"
   ]
  },
  {
   "cell_type": "code",
   "execution_count": 6,
   "metadata": {},
   "outputs": [
    {
     "name": "stdout",
     "output_type": "stream",
     "text": [
      "32.4%的样本被预测正确\n",
      "35.0%的样本被预测正确\n",
      "35.1%的样本被预测正确\n",
      "34.4%的样本被预测正确\n",
      "31.7%的样本被预测正确\n",
      "32.5%的样本被预测正确\n",
      "32.9%的样本被预测正确\n",
      "35.3%的样本被预测正确\n",
      "31.6%的样本被预测正确\n",
      "32.9%的样本被预测正确\n"
     ]
    }
   ],
   "source": [
    "###开始验证transformer_encoder的第OUTPUT_IDX能否看见第MASK_IDX个输入\n",
    "optimizer = torch.optim.AdamW(model.parameters(), lr=LR, weight_decay=0.01) #0.01\n",
    "criterion = torch.nn.MSELoss()\n",
    "for epoch in range(NUM_EPOCHS):\n",
    "    ##Train\n",
    "    model.train()\n",
    "    \n",
    "    #Get data\n",
    "    x,y = get_batch_data(BATCH_SIZE)\n",
    "    \n",
    "    #Calculate output\n",
    "    optimizer.zero_grad()\n",
    "    pre,attn_output_weights = model(x,src_mask)\n",
    "    \n",
    "    #Calculate loss\n",
    "    loss = criterion(pre,y[:,1,:])\n",
    "    \n",
    "    #Optimize the model\n",
    "    loss.backward()\n",
    "    optimizer.step()\n",
    "    \n",
    "    ##Test\n",
    "    if (epoch % 100) == 0:\n",
    "        model.eval()\n",
    "        #Get data\n",
    "        x,y = get_batch_data(1000)\n",
    "        \n",
    "        with torch.no_grad():\n",
    "            pre,attn_output_weights = model(x,src_mask)\n",
    "            pre_idx = torch.argmax(pre,1)\n",
    "            gt = torch.argmax(y[:,1,:],1)\n",
    "            print('{:.1f}%的样本被预测正确'.format(torch.sum(pre_idx==gt)/10))\n",
    "            # print(torch.sum(attn_output_weights,dim=0))\n",
    "        "
   ]
  },
  {
   "cell_type": "code",
   "execution_count": 7,
   "metadata": {},
   "outputs": [
    {
     "name": "stdout",
     "output_type": "stream",
     "text": [
      "tensor([[0., 0., 0.],\n",
      "        [0., 0., 0.],\n",
      "        [0., 0., 0.]])\n"
     ]
    }
   ],
   "source": [
    "##修改src_mask，不再遮挡输入序列中第MASK_IDX个位置的信息\n",
    "src_mask =  torch.zeros(MAX_LEN,MAX_LEN)\n",
    "# src_mask[:,MASK_IDX] = 1\n",
    "src_mask = src_mask.masked_fill(src_mask == 1, float('-inf'))\n",
    "print(src_mask)"
   ]
  },
  {
   "cell_type": "code",
   "execution_count": 8,
   "metadata": {},
   "outputs": [
    {
     "name": "stdout",
     "output_type": "stream",
     "text": [
      "28.2%的样本被预测正确; tensor([0.3497, 0.3392, 0.3110])\n",
      "100.0%的样本被预测正确; tensor([0.2637, 0.5136, 0.2227])\n",
      "100.0%的样本被预测正确; tensor([0.1380, 0.6620, 0.2000])\n",
      "100.0%的样本被预测正确; tensor([0.0980, 0.7217, 0.1802])\n",
      "100.0%的样本被预测正确; tensor([0.0776, 0.7620, 0.1605])\n",
      "100.0%的样本被预测正确; tensor([0.0623, 0.7942, 0.1435])\n",
      "100.0%的样本被预测正确; tensor([0.0506, 0.8211, 0.1282])\n",
      "100.0%的样本被预测正确; tensor([0.0452, 0.8379, 0.1169])\n",
      "100.0%的样本被预测正确; tensor([0.0393, 0.8512, 0.1095])\n",
      "100.0%的样本被预测正确; tensor([0.0349, 0.8669, 0.0982])\n"
     ]
    }
   ],
   "source": [
    "###重新测试transformer_encoder的第OUTPUT_IDX能否看见第MASK_IDX个输入\n",
    "optimizer = torch.optim.AdamW(model.parameters(), lr=LR, weight_decay=0.01) #0.01\n",
    "criterion = torch.nn.MSELoss()\n",
    "for epoch in range(NUM_EPOCHS):\n",
    "    ##Train\n",
    "    model.train()\n",
    "    \n",
    "    #Get data\n",
    "    x,y = get_batch_data(BATCH_SIZE)\n",
    "    \n",
    "    #Calculate output\n",
    "    optimizer.zero_grad()\n",
    "    pre,attn_output_weights = model(x,src_mask)\n",
    "    \n",
    "    #Calculate loss\n",
    "    loss = criterion(pre,y[:,1,:])\n",
    "    \n",
    "    #Optimize the model\n",
    "    loss.backward()\n",
    "    optimizer.step()\n",
    "    \n",
    "    ##Test\n",
    "    if (epoch % 100) == 0:\n",
    "        model.eval()\n",
    "        #Get data\n",
    "        x,y = get_batch_data(1000)\n",
    "        \n",
    "        with torch.no_grad():\n",
    "            pre,attn_output_weights = model(x,src_mask)\n",
    "            pre_idx = torch.argmax(pre,1)\n",
    "            gt = torch.argmax(y[:,1,:],1)\n",
    "\n",
    "            print('{:.1f}%的样本被预测正确'.format(torch.sum(pre_idx==gt)/10),end='; ')\n",
    "            print(torch.mean(attn_output_weights,dim=0))\n",
    "        "
   ]
  },
  {
   "cell_type": "code",
   "execution_count": 9,
   "metadata": {},
   "outputs": [
    {
     "name": "stdout",
     "output_type": "stream",
     "text": [
      "tensor([[0., -inf, 0.],\n",
      "        [0., -inf, 0.],\n",
      "        [0., -inf, 0.]])\n",
      "30.9%的样本被预测正确; tensor([0.5041, 0.0000, 0.4959])\n",
      "100.0%的样本被预测正确; tensor([0.5050, 0.0000, 0.4950])\n",
      "100.0%的样本被预测正确; tensor([0.5039, 0.0000, 0.4961])\n",
      "100.0%的样本被预测正确; tensor([0.5060, 0.0000, 0.4940])\n",
      "100.0%的样本被预测正确; tensor([0.5064, 0.0000, 0.4936])\n",
      "100.0%的样本被预测正确; tensor([0.5039, 0.0000, 0.4961])\n",
      "100.0%的样本被预测正确; tensor([0.5023, 0.0000, 0.4977])\n",
      "100.0%的样本被预测正确; tensor([0.5038, 0.0000, 0.4962])\n",
      "100.0%的样本被预测正确; tensor([0.5023, 0.0000, 0.4977])\n",
      "100.0%的样本被预测正确; tensor([0.5030, 0.0000, 0.4970])\n"
     ]
    }
   ],
   "source": [
    "###测试src_mask对角线遮挡是否有用\n",
    "src_mask =  torch.zeros(MAX_LEN,MAX_LEN) \n",
    "src_mask[:,MASK_IDX] = 1 ##创建src_mask，遮挡输入序列中第MASK_IDX个位置的信息\n",
    "src_mask = src_mask.masked_fill(src_mask == 1, float('-inf'))\n",
    "print(src_mask)\n",
    "\n",
    "#重新创建模型\n",
    "OUTPUT_IDX = 1\n",
    "model = autoencoder(num_encoder_layers = 1,d_embedding=DIM_EMBEDDING,output_idx=OUTPUT_IDX).to(device)\n",
    "\n",
    "###重新测试transformer_encoder的第OUTPUT_IDX能否看见第MASK_IDX个输入\n",
    "optimizer = torch.optim.AdamW(model.parameters(), lr=LR, weight_decay=0.01) #0.01\n",
    "criterion = torch.nn.MSELoss()\n",
    "for epoch in range(NUM_EPOCHS):\n",
    "    ##Train\n",
    "    model.train()\n",
    "    \n",
    "    #Get data\n",
    "    x,y = get_batch_data(BATCH_SIZE)\n",
    "    \n",
    "    #Calculate output\n",
    "    optimizer.zero_grad()\n",
    "    pre,attn_output_weights = model(x,src_mask)\n",
    "    \n",
    "    #Calculate loss\n",
    "    loss = criterion(pre,y[:,1,:])\n",
    "    \n",
    "    #Optimize the model\n",
    "    loss.backward()\n",
    "    optimizer.step()\n",
    "    \n",
    "    ##Test\n",
    "    if (epoch % 100) == 0:\n",
    "        model.eval()\n",
    "        #Get data\n",
    "        x,y = get_batch_data(1000)\n",
    "        \n",
    "        with torch.no_grad():\n",
    "            pre,attn_output_weights = model(x,src_mask)\n",
    "            pre_idx = torch.argmax(pre,1)\n",
    "            gt = torch.argmax(y[:,1,:],1)\n",
    "            \n",
    "            print('{:.1f}%的样本被预测正确'.format(torch.sum(pre_idx==gt)/10),end='; ')\n",
    "            print(torch.mean(attn_output_weights,dim=0))\n"
   ]
  }
 ],
 "metadata": {
  "kernelspec": {
   "display_name": "ml",
   "language": "python",
   "name": "python3"
  },
  "language_info": {
   "codemirror_mode": {
    "name": "ipython",
    "version": 3
   },
   "file_extension": ".py",
   "mimetype": "text/x-python",
   "name": "python",
   "nbconvert_exporter": "python",
   "pygments_lexer": "ipython3",
   "version": "3.7.9"
  }
 },
 "nbformat": 4,
 "nbformat_minor": 2
}
